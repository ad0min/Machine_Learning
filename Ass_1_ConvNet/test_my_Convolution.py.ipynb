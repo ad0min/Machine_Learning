{
 "cells": [
  {
   "cell_type": "code",
   "execution_count": 6,
   "metadata": {},
   "outputs": [],
   "source": [
    "import numpy as np\n",
    "from sklearn.datasets import fetch_mldata\n",
    "from sklearn import datasets\n",
    "from sklearn.model_selection import train_test_split\n",
    "from src.neural_network import NeuralNetwork\n",
    "from src.util import to_categorical\n",
    "from src.loss_function import SquareLoss\n",
    "from src.layers import Conv2D, Dense, Dropout, Activation, Flatten\n",
    "import matplotlib.pyplot as plt\n",
    "from sklearn.metrics import accuracy_score\n"
   ]
  },
  {
   "cell_type": "code",
   "execution_count": 7,
   "metadata": {},
   "outputs": [],
   "source": [
    "\n",
    "dataset = datasets.load_digits()\n",
    "X = dataset.data\n",
    "y = dataset.target\n",
    "\n",
    "y = to_categorical(y.astype(\"int\"))\n",
    "\n",
    "X_train, X_test, y_train, y_test = train_test_split(X, y, test_size=0.3)\n",
    "# print(X_train.shape)\n",
    "X_train = X_train[:256]\n",
    "y_train = y_train[:256]\n",
    "X_train = X_train.reshape((-1,1,8,8))\n",
    "X_test = X_test.reshape((-1,1,8,8))\n",
    "X_test = X_train[:256]\n",
    "y_test = y_train[:256]"
   ]
  },
  {
   "cell_type": "code",
   "execution_count": 8,
   "metadata": {},
   "outputs": [],
   "source": [
    "\n",
    "# Model \n",
    "model = NeuralNetwork(SquareLoss(),\n",
    "                    (X_test, y_test))\n",
    "model.add(Conv2D(16, filter_shape=(3,3), stride=1, input_shape=(1,8,8), padding='same'))\n",
    "model.add(Activation('relu'))\n",
    "model.add(Dropout(p = 0.2))\n",
    "model.add(Conv2D(n_filters=32, filter_shape=(3,3), stride=1, padding='same'))\n",
    "model.add(Activation('relu'))\n",
    "model.add(Dropout(p = 0.2))\n",
    "model.add(Flatten())\n",
    "model.add(Dense(256))\n",
    "model.add(Activation('relu'))\n",
    "model.add(Dropout(0.4))\n",
    "model.add(Dense(10))\n",
    "model.add(Activation('softmax'))"
   ]
  },
  {
   "cell_type": "code",
   "execution_count": 9,
   "metadata": {},
   "outputs": [
    {
     "data": {
      "image/png": "[encoded data removed]",
      "text/plain": [
       "<matplotlib.figure.Figure at 0x7f4231dd8860>"
      ]
     },
     "metadata": {},
     "output_type": "display_data"
    },
    {
     "name": "stdout",
     "output_type": "stream",
     "text": [
      "Accuracy: 0\n"
     ]
    }
   ],
   "source": [
    "train_err = model.fit(X_train, y_train, n_epochs=5, batch_size=256)\n",
    "\n",
    "# print(model.layers[-1])\n",
    "\n",
    "n = len(train_err)\n",
    "training, = plt.plot(range(n), train_err, label=\"Training Error\")\n",
    "# validation, = plt.plot(range(n), val_err, label=\"Validation Error\")\n",
    "# plt.legend(handles=[training, validation])\n",
    "plt.title(\"Error Plot\")\n",
    "plt.ylabel('Error')\n",
    "plt.xlabel('Iterations')\n",
    "plt.show()\n",
    "\n",
    "_, accuracy = model.test_on_batch(X_test, y_test)\n",
    "print (\"Accuracy:\", accuracy)\n",
    "# y_pred = np.argmax(model.predict(X_test), axis=1)\n",
    "# X_test = X_test.reshape(-1, 8*8)\n",
    "# print(y_pred[:10], y_test[:10])\n",
    "# print(accuracy_score(y_pred, y_test))\n",
    "# Plot().plot_in_2d(X_test, y_pred, title=\"Convolutional Neural Network\", accuracy=accuracy, legend_labels=range(10))"
   ]
  },
  {
   "cell_type": "code",
   "execution_count": null,
   "metadata": {
    "collapsed": true
   },
   "outputs": [],
   "source": []
  },
  {
   "cell_type": "code",
   "execution_count": null,
   "metadata": {
    "collapsed": true
   },
   "outputs": [],
   "source": []
  }
 ],
 "metadata": {
  "kernelspec": {
   "display_name": "Python 3",
   "language": "python",
   "name": "python3"
  },
  "language_info": {
   "codemirror_mode": {
    "name": "ipython",
    "version": 3
   },
   "file_extension": ".py",
   "mimetype": "text/x-python",
   "name": "python",
   "nbconvert_exporter": "python",
   "pygments_lexer": "ipython3",
   "version": "3.6.3"
  }
 },
 "nbformat": 4,
 "nbformat_minor": 2
}
