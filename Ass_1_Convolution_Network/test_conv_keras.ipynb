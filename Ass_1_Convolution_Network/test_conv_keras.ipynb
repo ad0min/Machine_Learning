{
  "nbformat": 4,
  "nbformat_minor": 0,
  "metadata": {
    "colab": {
      "name": "test_conv_keras.ipynb",
      "version": "0.3.2",
      "provenance": [],
      "collapsed_sections": [],
      "toc_visible": true
    }
  },
  "cells": [
    {
      "metadata": {
        "id": "fqF6Jwuwxok8",
        "colab_type": "code",
        "colab": {}
      },
      "cell_type": "code",
      "source": [
        "\n",
        "# import os ; os.environ['HDF5_DISABLE_VERSION_CHECK']='2'\n",
        "from keras.models import Sequential\n",
        "from keras.layers import Dense, Activation, Conv2D, Flatten, Dropout\n",
        "from keras.utils import to_categorical\n",
        "import keras\n",
        "from sklearn.datasets import fetch_mldata\n",
        "from sklearn.model_selection import train_test_split\n",
        "from sklearn import datasets"
      ],
      "execution_count": 0,
      "outputs": []
    },
    {
      "metadata": {
        "id": "dvxVighHyIJe",
        "colab_type": "code",
        "colab": {}
      },
      "cell_type": "code",
      "source": [
        "\n",
        "# Model\n",
        "model = Sequential()\n",
        "\n",
        "model.add(Conv2D(filters=16,kernel_size= (3,3), strides=1,  activation='relu',padding='same', input_shape=(1,8,8)))\n",
        "model.add(Activation('relu'))\n",
        "model.add(Dropout(rate = 0.2))\n",
        "model.add(Conv2D(filters=32,kernel_size=(3,3), strides=1, padding='same'))\n",
        "model.add(Activation('relu'))\n",
        "model.add(Dropout(rate = 0.2))\n",
        "model.add(Flatten())\n",
        "model.add(Dense(256))\n",
        "model.add(Activation('relu'))\n",
        "model.add(Dropout(0.4))\n",
        "model.add(Dense(10))\n",
        "model.add(Activation('softmax'))\n",
        "\n",
        "model.compile(loss=keras.losses.categorical_crossentropy,\n",
        "              optimizer=keras.optimizers.Adadelta(),\n",
        "              metrics=['accuracy'])\n"
      ],
      "execution_count": 0,
      "outputs": []
    },
    {
      "metadata": {
        "id": "tvnRrN2p1wlv",
        "colab_type": "code",
        "outputId": "1a1d4c7d-a2a3-4c59-b0e2-f129820cfa7c",
        "colab": {
          "base_uri": "https://localhost:8080/",
          "height": 391
        }
      },
      "cell_type": "code",
      "source": [
        "\n",
        "# Data Preprocessing\n",
        "# from google.colab import files\n",
        "# mnist = fetch_mldata('MNIST original', data_home='.') \n",
        "# mnist = files.upload()\n",
        "\n",
        "data = datasets.load_digits()\n",
        "X = data.data\n",
        "y = data.target\n",
        "\n",
        "y = to_categorical(y, num_classes = 10)\n",
        "\n",
        "X_train, X_test, y_train, y_test = train_test_split(X, y, test_size=0.3)\n",
        "X_train = X_train.reshape((-1,1,8,8))\n",
        "X_test = X_test.reshape((-1,1,8,8))\n",
        "\n",
        "model.fit(X_train, y_train, epochs=10, batch_size=32)\n",
        "# model.fit(x_train, y_train,\n",
        "#           batch_size=batch_size,\n",
        "#           epochs=epochs,\n",
        "#           verbose=1,\n",
        "#           validation_data=(x_test, y_test))\n",
        "score = model.evaluate(X_test, y_test, verbose=0)\n",
        "\n",
        "print('Test loss:', score[0])\n",
        "print('Test accuracy:', score[1])"
      ],
      "execution_count": 0,
      "outputs": [
        {
          "output_type": "stream",
          "text": [
            "Epoch 1/10\n",
            "1257/1257 [==============================] - 1s 877us/step - loss: 1.7349 - acc: 0.4296\n",
            "Epoch 2/10\n",
            "1257/1257 [==============================] - 0s 144us/step - loss: 0.7652 - acc: 0.7550\n",
            "Epoch 3/10\n",
            "1257/1257 [==============================] - 0s 145us/step - loss: 0.4668 - acc: 0.8473\n",
            "Epoch 4/10\n",
            "1257/1257 [==============================] - 0s 138us/step - loss: 0.3988 - acc: 0.8703\n",
            "Epoch 5/10\n",
            "1257/1257 [==============================] - 0s 150us/step - loss: 0.3518 - acc: 0.8902\n",
            "Epoch 6/10\n",
            "1257/1257 [==============================] - 0s 144us/step - loss: 0.2830 - acc: 0.9045\n",
            "Epoch 7/10\n",
            "1257/1257 [==============================] - 0s 145us/step - loss: 0.2603 - acc: 0.9173\n",
            "Epoch 8/10\n",
            "1257/1257 [==============================] - 0s 151us/step - loss: 0.2368 - acc: 0.9149\n",
            "Epoch 9/10\n",
            "1257/1257 [==============================] - 0s 153us/step - loss: 0.2222 - acc: 0.9244\n",
            "Epoch 10/10\n",
            "1257/1257 [==============================] - 0s 148us/step - loss: 0.2005 - acc: 0.9300\n",
            "('Test loss:', 0.07772200148966578)\n",
            "('Test accuracy:', 0.9703703703703703)\n"
          ],
          "name": "stdout"
        }
      ]
    },
    {
      "metadata": {
        "id": "JcjFXBXk2MPe",
        "colab_type": "code",
        "colab": {}
      },
      "cell_type": "code",
      "source": [
        ""
      ],
      "execution_count": 0,
      "outputs": []
    }
  ]
}